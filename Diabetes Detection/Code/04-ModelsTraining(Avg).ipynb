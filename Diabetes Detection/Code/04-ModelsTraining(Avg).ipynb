{
 "cells": [
  {
   "cell_type": "code",
   "execution_count": 1,
   "id": "d36d37db",
   "metadata": {},
   "outputs": [
    {
     "data": {
      "text/html": [
       "<div>\n",
       "<style scoped>\n",
       "    .dataframe tbody tr th:only-of-type {\n",
       "        vertical-align: middle;\n",
       "    }\n",
       "\n",
       "    .dataframe tbody tr th {\n",
       "        vertical-align: top;\n",
       "    }\n",
       "\n",
       "    .dataframe thead th {\n",
       "        text-align: right;\n",
       "    }\n",
       "</style>\n",
       "<table border=\"1\" class=\"dataframe\">\n",
       "  <thead>\n",
       "    <tr style=\"text-align: right;\">\n",
       "      <th></th>\n",
       "      <th>Pregnancies</th>\n",
       "      <th>Glucose</th>\n",
       "      <th>BloodPressure</th>\n",
       "      <th>SkinThickness</th>\n",
       "      <th>Insulin</th>\n",
       "      <th>BMI</th>\n",
       "      <th>DiabetesPedigreeFunction</th>\n",
       "      <th>Age</th>\n",
       "      <th>Outcome</th>\n",
       "    </tr>\n",
       "  </thead>\n",
       "  <tbody>\n",
       "    <tr>\n",
       "      <th>0</th>\n",
       "      <td>6</td>\n",
       "      <td>148</td>\n",
       "      <td>72</td>\n",
       "      <td>35</td>\n",
       "      <td>80</td>\n",
       "      <td>33.6</td>\n",
       "      <td>0.627</td>\n",
       "      <td>50</td>\n",
       "      <td>1</td>\n",
       "    </tr>\n",
       "    <tr>\n",
       "      <th>1</th>\n",
       "      <td>1</td>\n",
       "      <td>85</td>\n",
       "      <td>66</td>\n",
       "      <td>29</td>\n",
       "      <td>80</td>\n",
       "      <td>26.6</td>\n",
       "      <td>0.351</td>\n",
       "      <td>31</td>\n",
       "      <td>0</td>\n",
       "    </tr>\n",
       "    <tr>\n",
       "      <th>2</th>\n",
       "      <td>8</td>\n",
       "      <td>183</td>\n",
       "      <td>64</td>\n",
       "      <td>20</td>\n",
       "      <td>80</td>\n",
       "      <td>23.3</td>\n",
       "      <td>0.672</td>\n",
       "      <td>32</td>\n",
       "      <td>1</td>\n",
       "    </tr>\n",
       "    <tr>\n",
       "      <th>3</th>\n",
       "      <td>1</td>\n",
       "      <td>89</td>\n",
       "      <td>66</td>\n",
       "      <td>23</td>\n",
       "      <td>94</td>\n",
       "      <td>28.1</td>\n",
       "      <td>0.167</td>\n",
       "      <td>21</td>\n",
       "      <td>0</td>\n",
       "    </tr>\n",
       "    <tr>\n",
       "      <th>4</th>\n",
       "      <td>0</td>\n",
       "      <td>137</td>\n",
       "      <td>40</td>\n",
       "      <td>35</td>\n",
       "      <td>168</td>\n",
       "      <td>43.1</td>\n",
       "      <td>2.288</td>\n",
       "      <td>33</td>\n",
       "      <td>1</td>\n",
       "    </tr>\n",
       "  </tbody>\n",
       "</table>\n",
       "</div>"
      ],
      "text/plain": [
       "   Pregnancies  Glucose  BloodPressure  SkinThickness  Insulin   BMI  \\\n",
       "0            6      148             72             35       80  33.6   \n",
       "1            1       85             66             29       80  26.6   \n",
       "2            8      183             64             20       80  23.3   \n",
       "3            1       89             66             23       94  28.1   \n",
       "4            0      137             40             35      168  43.1   \n",
       "\n",
       "   DiabetesPedigreeFunction  Age  Outcome  \n",
       "0                     0.627   50        1  \n",
       "1                     0.351   31        0  \n",
       "2                     0.672   32        1  \n",
       "3                     0.167   21        0  \n",
       "4                     2.288   33        1  "
      ]
     },
     "execution_count": 1,
     "metadata": {},
     "output_type": "execute_result"
    }
   ],
   "source": [
    "import pandas as pd\n",
    "df= pd.read_csv(\"Datasets/FinalDiabetesDataset(Avg).csv\")\n",
    "df.head(5)"
   ]
  },
  {
   "cell_type": "markdown",
   "id": "3f95ce5d",
   "metadata": {},
   "source": [
    "## Applying ML Classification models Dataset.\n",
    ">* __Logistic Regression__\n",
    ">* __Decision Tree Classifier__\n",
    ">* __Random Forest Classifier__\n",
    ">* __Support Vector Classifier__\n",
    ">* __Naïve Bayes Classifier__\n",
    ">* __K-Nearest Neighbor(KNN)__\n",
    "\n",
    "__Note :__ _Dataset is Not normalized._"
   ]
  },
  {
   "cell_type": "code",
   "execution_count": 2,
   "id": "fcf1779d",
   "metadata": {},
   "outputs": [
    {
     "name": "stdout",
     "output_type": "stream",
     "text": [
      "2214 554\n"
     ]
    }
   ],
   "source": [
    "x = df.drop(['Outcome'],axis=1)\n",
    "y = df['Outcome']\n",
    "from sklearn.model_selection import train_test_split\n",
    "x_train,x_test,y_train,y_test = train_test_split(x,y,test_size=0.2,random_state=1)\n",
    "print(len(x_train),len(x_test))"
   ]
  },
  {
   "cell_type": "code",
   "execution_count": 3,
   "id": "a68e5086",
   "metadata": {},
   "outputs": [],
   "source": [
    "def testAccuracy(model):\n",
    "    import seaborn as sn\n",
    "    import matplotlib.pyplot as plt\n",
    "    from sklearn.metrics import confusion_matrix,classification_report\n",
    "    y_pred = model.predict(x_test)\n",
    "    cm = confusion_matrix(y_pred,y_test)\n",
    "    plt.figure(figsize=(5,3))\n",
    "    sn.heatmap(cm, annot=True,fmt='d')\n",
    "    plt.xlabel('Predicted')\n",
    "    plt.ylabel('Truth')\n",
    "    print(classification_report(y_test,y_pred,zero_division=False))"
   ]
  },
  {
   "cell_type": "markdown",
   "id": "9f2ff7a2",
   "metadata": {},
   "source": [
    "## Logistic Regression"
   ]
  },
  {
   "cell_type": "code",
   "execution_count": 4,
   "id": "2b655fbd",
   "metadata": {},
   "outputs": [
    {
     "name": "stdout",
     "output_type": "stream",
     "text": [
      "Training Score :  0.7768744354110207\n",
      "              precision    recall  f1-score   support\n",
      "\n",
      "           0       0.80      0.88      0.84       364\n",
      "           1       0.72      0.56      0.63       190\n",
      "\n",
      "    accuracy                           0.77       554\n",
      "   macro avg       0.76      0.72      0.73       554\n",
      "weighted avg       0.77      0.77      0.77       554\n",
      "\n"
     ]
    },
    {
     "data": {
      "image/png": "[encoded data removed]",
      "text/plain": [
       "<Figure size 500x300 with 2 Axes>"
      ]
     },
     "metadata": {},
     "output_type": "display_data"
    }
   ],
   "source": [
    "from sklearn.linear_model import LogisticRegression\n",
    "lr_model = LogisticRegression(max_iter=100000)\n",
    "lr_model.fit(x_train,y_train)\n",
    "print(\"Training Score : \",lr_model.score(x_train,y_train))\n",
    "testAccuracy(lr_model)\n",
    "# import joblib\n",
    "# joblib.dump(lr_model,\"LR.pkl\")"
   ]
  },
  {
   "cell_type": "markdown",
   "id": "ef22201d",
   "metadata": {},
   "source": [
    "## Decision Tree"
   ]
  },
  {
   "cell_type": "code",
   "execution_count": 5,
   "id": "ba62f181",
   "metadata": {},
   "outputs": [
    {
     "name": "stdout",
     "output_type": "stream",
     "text": [
      "Training Score :  1.0\n",
      "              precision    recall  f1-score   support\n",
      "\n",
      "           0       1.00      0.99      0.99       364\n",
      "           1       0.98      0.99      0.99       190\n",
      "\n",
      "    accuracy                           0.99       554\n",
      "   macro avg       0.99      0.99      0.99       554\n",
      "weighted avg       0.99      0.99      0.99       554\n",
      "\n"
     ]
    },
    {
     "data": {
      "image/png": "[encoded data removed]",
      "text/plain": [
       "<Figure size 500x300 with 2 Axes>"
      ]
     },
     "metadata": {},
     "output_type": "display_data"
    }
   ],
   "source": [
    "from sklearn.tree import DecisionTreeClassifier\n",
    "dt_model = DecisionTreeClassifier()\n",
    "dt_model.fit(x_train,y_train)\n",
    "print(\"Training Score : \",dt_model.score(x_train,y_train))\n",
    "testAccuracy(dt_model)\n",
    "# import joblib\n",
    "# joblib.dump(dt_model,\"DT.pkl\")"
   ]
  },
  {
   "cell_type": "markdown",
   "id": "da220d24",
   "metadata": {},
   "source": [
    "## Random Forest Classifier"
   ]
  },
  {
   "cell_type": "code",
   "execution_count": 6,
   "id": "6eb93d84",
   "metadata": {},
   "outputs": [
    {
     "name": "stdout",
     "output_type": "stream",
     "text": [
      "Training Score :  1.0\n",
      "              precision    recall  f1-score   support\n",
      "\n",
      "           0       0.99      1.00      1.00       364\n",
      "           1       1.00      0.98      0.99       190\n",
      "\n",
      "    accuracy                           0.99       554\n",
      "   macro avg       1.00      0.99      0.99       554\n",
      "weighted avg       0.99      0.99      0.99       554\n",
      "\n"
     ]
    },
    {
     "data": {
      "image/png": "[encoded data removed]",
      "text/plain": [
       "<Figure size 500x300 with 2 Axes>"
      ]
     },
     "metadata": {},
     "output_type": "display_data"
    }
   ],
   "source": [
    "from sklearn.ensemble import RandomForestClassifier\n",
    "rf_model = RandomForestClassifier()\n",
    "rf_model.fit(x_train,y_train)\n",
    "print(\"Training Score : \",rf_model.score(x_train,y_train))\n",
    "testAccuracy(rf_model)\n",
    "# import joblib\n",
    "# joblib.dump(rf_model,\"RF.pkl\")"
   ]
  },
  {
   "cell_type": "markdown",
   "id": "e8b3a25d",
   "metadata": {},
   "source": [
    "## Support Vector Classifier"
   ]
  },
  {
   "cell_type": "code",
   "execution_count": 7,
   "id": "ff40a94f",
   "metadata": {},
   "outputs": [
    {
     "name": "stdout",
     "output_type": "stream",
     "text": [
      "Training Score :  0.7845528455284553\n",
      "              precision    recall  f1-score   support\n",
      "\n",
      "           0       0.77      0.88      0.82       364\n",
      "           1       0.69      0.49      0.57       190\n",
      "\n",
      "    accuracy                           0.75       554\n",
      "   macro avg       0.73      0.69      0.70       554\n",
      "weighted avg       0.74      0.75      0.74       554\n",
      "\n"
     ]
    },
    {
     "data": {
      "image/png": "[encoded data removed]",
      "text/plain": [
       "<Figure size 500x300 with 2 Axes>"
      ]
     },
     "metadata": {},
     "output_type": "display_data"
    }
   ],
   "source": [
    "from sklearn.svm import SVC\n",
    "sv_model = SVC()\n",
    "sv_model.fit(x_train,y_train)\n",
    "print(\"Training Score : \",sv_model.score(x_train,y_train))\n",
    "testAccuracy(sv_model)\n",
    "# import joblib\n",
    "# joblib.dump(sv_model,\"SVM.pkl\")"
   ]
  },
  {
   "cell_type": "markdown",
   "id": "a1c7f09b",
   "metadata": {},
   "source": [
    "## Naïve Bayes Classifier"
   ]
  },
  {
   "cell_type": "code",
   "execution_count": 8,
   "id": "cfe5d567",
   "metadata": {},
   "outputs": [
    {
     "name": "stdout",
     "output_type": "stream",
     "text": [
      "Training Score :  0.7484191508581752\n",
      "              precision    recall  f1-score   support\n",
      "\n",
      "           0       0.79      0.80      0.80       364\n",
      "           1       0.61      0.59      0.60       190\n",
      "\n",
      "    accuracy                           0.73       554\n",
      "   macro avg       0.70      0.70      0.70       554\n",
      "weighted avg       0.73      0.73      0.73       554\n",
      "\n"
     ]
    },
    {
     "data": {
      "image/png": "[encoded data removed]",
      "text/plain": [
       "<Figure size 500x300 with 2 Axes>"
      ]
     },
     "metadata": {},
     "output_type": "display_data"
    }
   ],
   "source": [
    "from sklearn.naive_bayes import GaussianNB\n",
    "nb_model = GaussianNB()\n",
    "nb_model.fit(x_train, y_train)\n",
    "print(\"Training Score : \",nb_model.score(x_train,y_train))\n",
    "# import joblib\n",
    "# joblib.dump(nb_model,\"NB.pkl\")\n",
    "testAccuracy(nb_model)"
   ]
  },
  {
   "cell_type": "markdown",
   "id": "bfeb3ec5",
   "metadata": {},
   "source": [
    "## K-Nearest Neighbor(KNN)"
   ]
  },
  {
   "cell_type": "code",
   "execution_count": 9,
   "id": "2606fac8",
   "metadata": {},
   "outputs": [
    {
     "name": "stdout",
     "output_type": "stream",
     "text": [
      "Training Score :  0.8730803974706414\n",
      "              precision    recall  f1-score   support\n",
      "\n",
      "           0       0.86      0.85      0.86       364\n",
      "           1       0.73      0.74      0.73       190\n",
      "\n",
      "    accuracy                           0.81       554\n",
      "   macro avg       0.79      0.80      0.79       554\n",
      "weighted avg       0.81      0.81      0.81       554\n",
      "\n"
     ]
    },
    {
     "data": {
      "image/png": "[encoded data removed]",
      "text/plain": [
       "<Figure size 500x300 with 2 Axes>"
      ]
     },
     "metadata": {},
     "output_type": "display_data"
    }
   ],
   "source": [
    "from sklearn.neighbors import KNeighborsClassifier\n",
    "knn_model = KNeighborsClassifier(n_neighbors=7) \n",
    "knn_model.fit(x_train, y_train)\n",
    "print(\"Training Score : \",knn_model.score(x_train,y_train))\n",
    "testAccuracy(knn_model)\n",
    "# import joblib\n",
    "# joblib.dump(knn_model,\"KNN.pkl\")"
   ]
  },
  {
   "cell_type": "code",
   "execution_count": null,
   "id": "1805f37d",
   "metadata": {},
   "outputs": [],
   "source": []
  }
 ],
 "metadata": {
  "kernelspec": {
   "display_name": "Python 3 (ipykernel)",
   "language": "python",
   "name": "python3"
  },
  "language_info": {
   "codemirror_mode": {
    "name": "ipython",
    "version": 3
   },
   "file_extension": ".py",
   "mimetype": "text/x-python",
   "name": "python",
   "nbconvert_exporter": "python",
   "pygments_lexer": "ipython3",
   "version": "3.10.7"
  }
 },
 "nbformat": 4,
 "nbformat_minor": 5
}
